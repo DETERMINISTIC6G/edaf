{
 "cells": [
  {
   "cell_type": "code",
   "execution_count": 2,
   "id": "1b973707-943f-4087-a73a-79cc4fd72a05",
   "metadata": {},
   "outputs": [],
   "source": [
    "import re\n",
    "import json\n",
    "from jsonpath_ng import jsonpath, parse\n",
    "import pandas as pd\n"
   ]
  },
  {
   "cell_type": "code",
   "execution_count": 3,
   "id": "5e12ddb1-3c60-48c7-8cf2-2447ddb17665",
   "metadata": {},
   "outputs": [],
   "source": [
    "# Define regular expressions to extract relevant information\n",
    "timestamp_pattern = r'(\\d+\\.\\d+)'\n",
    "len_pattern = r'len(\\d+)'\n",
    "gtp_out_pattern = r'gtp.out'\n",
    "hqround_pattern = r'hqround(\\d+)'\n",
    "frame_subframe_pattern = r'fm(\\d+)\\.sl(\\d+)\\.hqpid(\\d+)\\.hqround(\\d+)'\n",
    "mcs_pattern = r'mcs(\\d+)'\n",
    "\n",
    "# Regular expression for 'phy.demodulatestart--phy.demodulateend'\n",
    "phy_demodulate_pattern = r'phy\\.demodulatestart--phy\\.demodulateend'"
   ]
  },
  {
   "cell_type": "code",
   "execution_count": 4,
   "id": "a3e29af6-1eac-4ca5-94d5-7b15f949a931",
   "metadata": {},
   "outputs": [],
   "source": [
    "log_file = \"3_results/gnb.lseq\"  # Replace with the path to your \"gnb.lseq\" file\n",
    "\n",
    "gtp_length = None\n",
    "gtp_info = {}\n",
    "mcs_value = None\n",
    "NUM_PREV_LINES = 7\n",
    "\n",
    "def get_traces(log_file):\n",
    "    traces = []\n",
    "    with open(log_file, 'r') as f:\n",
    "        recent_lines = []\n",
    "        for line in f:\n",
    "            timestamp_match = re.search(timestamp_pattern, line)\n",
    "            if timestamp_match:\n",
    "                timestamp = timestamp_match.group(1)\n",
    "\n",
    "                len_match = re.search(len_pattern, line)\n",
    "                if len_match:\n",
    "                    length = int(len_match.group(1))\n",
    "                    gtp_length = length\n",
    "\n",
    "                gtp_out_match = re.search(gtp_out_pattern, line)\n",
    "                if gtp_out_match and gtp_length == 84:\n",
    "                    # Store information for lines with \"gtp.out,\" length 84, and use previously captured MCS value\n",
    "                    gtp_info = {}\n",
    "                    gtp_info['Timestamp'] = timestamp\n",
    "                    # Process the last seven lines to extract information\n",
    "                    for prev_line in reversed(recent_lines[-NUM_PREV_LINES:]):\n",
    "                        timestamp_match = re.search(timestamp_pattern, prev_line)\n",
    "                        if timestamp_match:\n",
    "                            timestamp = timestamp_match.group(1)\n",
    "                        hqround_match = re.search(hqround_pattern, prev_line)\n",
    "                        frame_subframe_match = re.search(frame_subframe_pattern, prev_line)\n",
    "                        mcs_match = re.search(mcs_pattern, prev_line)\n",
    "                        phy_demodulate_match = re.search(phy_demodulate_pattern, prev_line)\n",
    "                        if hqround_match:\n",
    "                            gtp_info['HQRound'] = hqround_match.group(1)\n",
    "                        if frame_subframe_match:\n",
    "                            gtp_info['Frame'] = frame_subframe_match.group(1)\n",
    "                            gtp_info['Subframe'] = frame_subframe_match.group(2)\n",
    "                            gtp_info['HQPID'] = frame_subframe_match.group(3)\n",
    "                        if mcs_match:\n",
    "                            gtp_info['MCS'] = mcs_match.group(1)\n",
    "                        if phy_demodulate_match:\n",
    "                            # Extract and store the corresponding timestamp\n",
    "                            gtp_info['PhyDemodulateTimestamp'] = timestamp\n",
    "                    traces.append(gtp_info)\n",
    "                # Add the current line to recent_lines\n",
    "                recent_lines.append(line)\n",
    "\n",
    "    return traces\n",
    "\n",
    "def save_traces_to_json(traces, output_json_file):\n",
    "    with open(output_json_file, 'w') as json_file:\n",
    "        json.dump(traces, json_file, indent=4)\n",
    "\n",
    "def load_traces_from_json(json_file):\n",
    "    with open(json_file, 'r') as json_file:\n",
    "        traces = json.load(json_file)\n",
    "    return traces\n",
    "\n",
    "log_file = \"3_results/gnb.lseq\"  # Replace with the path to your \"gnb.lseq\" file\n",
    "output_json_file = \"3_results/traces.json\"  # Specify the output JSON file\n",
    "\n",
    "traces = get_traces(log_file)\n",
    "save_traces_to_json(traces, output_json_file)\n",
    "\n",
    "# To load the traces from the JSON file\n",
    "loaded_traces = load_traces_from_json(output_json_file)\n"
   ]
  },
  {
   "cell_type": "code",
   "execution_count": 5,
   "id": "166cb492-2d57-4ada-b0e1-4659c7bea9a4",
   "metadata": {},
   "outputs": [],
   "source": [
    "import json\n",
    "from jsonpath_ng import jsonpath, parse\n",
    "import pandas as pd\n",
    "import matplotlib.pyplot as plt\n",
    "import numpy as np\n",
    "import plotly.express as px\n",
    "import plotly.tools as tls  # Import plotly.tools\n",
    "from plotly.subplots import make_subplots\n",
    "\n",
    "\n",
    "def flatten_dict(d, parent_key='', sep='.'):\n",
    "    items = {}\n",
    "    for key, value in d.items():\n",
    "        new_key = f\"{parent_key}{sep}{key}\" if parent_key else key\n",
    "        if isinstance(value, dict):\n",
    "            items.update(flatten_dict(value, new_key, sep=sep))\n",
    "        elif isinstance(value, list):\n",
    "            for i, item in enumerate(value):\n",
    "                if isinstance(item, dict):\n",
    "                    items.update(flatten_dict(item, f\"{new_key}{sep}{i}\", sep=sep))\n",
    "                else:\n",
    "                    items[f\"{new_key}{sep}{i}\"] = item\n",
    "        else:\n",
    "            items[new_key] = value\n",
    "    return items\n"
   ]
  },
  {
   "cell_type": "code",
   "execution_count": 6,
   "id": "6c8f0f02-4575-4bea-aba7-358330d37d6e",
   "metadata": {},
   "outputs": [],
   "source": [
    "# Load the first JSON file (nruejourneys.json)\n",
    "with open('3_results/nruejourneys.json', 'r') as nruejourneys_file:\n",
    "    uejourneys_data = json.load(nruejourneys_file)\n",
    "\n",
    "# Load the second JSON file (gnbjourneys.json)\n",
    "with open('3_results/gnbjourneys.json', 'r') as gnbjourneys_file:\n",
    "    gnbjourneys_data = json.load(gnbjourneys_file)\n",
    "\n",
    "# Create a dictionary to store the entries from the second JSON file (gnbjourneys.json)\n",
    "gnbjourneys_dict = {entry['gtp.out']['sn']: entry for entry in gnbjourneys_data}\n",
    "\n",
    "# Create a list to store the resulting tuples\n",
    "result_tuples = []\n",
    "\n",
    "uejourneys_dict = {entry['rlc.queue']['segments'][0]['rlc.txpdu']['sn']: entry for entry in uejourneys_data}\n",
    "\n",
    "for uekey in uejourneys_dict:\n",
    "    ue_entry = uejourneys_dict[uekey]\n",
    "    if uekey in gnbjourneys_dict:\n",
    "        gnb_entry = gnbjourneys_dict[uekey]\n",
    "        result_tuples.append((ue_entry, gnb_entry))"
   ]
  },
  {
   "cell_type": "code",
   "execution_count": 7,
   "id": "3167c860-6a38-487d-8ffa-7e1eb8967009",
   "metadata": {},
   "outputs": [
    {
     "name": "stdout",
     "output_type": "stream",
     "text": [
      "140\n"
     ]
    }
   ],
   "source": [
    "# combine ue and gnb\n",
    "ue_gnb_combined = {}\n",
    "for uekey in uejourneys_dict:\n",
    "    ue_entry = uejourneys_dict[uekey]\n",
    "    if uekey in gnbjourneys_dict:\n",
    "        gnb_entry = gnbjourneys_dict[uekey]\n",
    "        ue_gnb_combined[uekey] = flatten_dict(ue_entry, parent_key='', sep='.') | flatten_dict(gnb_entry, parent_key='', sep='.')\n",
    "\n",
    "# combine irtt       \n",
    "\n",
    "df = pd.DataFrame(ue_gnb_combined).T  # Transpose to have keys as columns\n",
    "df.to_parquet('3_results/journeys.parquet', engine='pyarrow')\n",
    "print(len(df.columns.values))"
   ]
  },
  {
   "cell_type": "code",
   "execution_count": 69,
   "id": "469f8cd3-3bbd-4b2d-a52f-341dd8747b61",
   "metadata": {},
   "outputs": [
    {
     "data": {
      "application/vnd.jupyter.widget-view+json": {
       "model_id": "40a8da3d43404ceb838b4067ccf726f1",
       "version_major": 2,
       "version_minor": 0
      },
      "image/png": "[encoded data removed]",
      "text/html": [
       "\n",
       "            <div style=\"display: inline-block;\">\n",
       "                <div class=\"jupyter-widgets widget-label\" style=\"text-align: center;\">\n",
       "                    Figure\n",
       "                </div>\n",
       "                <img src='data:image/png;base64,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' width=5000.0/>\n",
       "            </div>\n",
       "        "
      ],
      "text/plain": [
       "Canvas(toolbar=Toolbar(toolitems=[('Home', 'Reset original view', 'home', 'home'), ('Back', 'Back to previous …"
      ]
     },
     "metadata": {},
     "output_type": "display_data"
    }
   ],
   "source": [
    "%matplotlib widget\n",
    "\n",
    "timestamps_head = [col for col in list(df.columns.values) if 'timestamp' in col]\n",
    "data = df[timestamps_head][::1].to_dict(orient='records')[0]\n",
    "\n",
    "\n",
    "# Filter out NaN values\n",
    "data = {key: value for key, value in data.items() if not str(value).lower() == 'nan'}\n",
    "data = dict(sorted(data.items(), key=lambda item: item[1]))\n",
    "\n",
    "# Extract keys and values\n",
    "keys = list(data.keys())\n",
    "key_indices = [i for i in range(0, len(keys))]\n",
    "values = [value - min(data.values()) for value in data.values()]\n",
    "\n",
    "## Create a horizontal line plot with different markers and labels at the bottom\n",
    "fig, ax = plt.subplots(figsize=(50, 2))\n",
    "ax.hlines(y=0, xmin=min(values), xmax=max(values), colors='b')\n",
    "for key, value in zip(key_indices, values):\n",
    "    ax.plot(value, 0, 'ro', markersize=10)  # Use red circle marker\n",
    "    ax.annotate(f'{key}', (value, -0.02), ha='center')\n",
    "\n",
    "# Set axis labels, hide the y-axis, and display the plot\n",
    "ax.set_xlabel('Values')\n",
    "ax.set_yticks([])  # Hide the y-axis\n",
    "ax.set_title('Values with Corresponding Keys')\n",
    "ax.grid()\n",
    "plt.savefig('journey.png')\n",
    "plt.show()"
   ]
  },
  {
   "cell_type": "code",
   "execution_count": 64,
   "id": "94a7552e-9236-4ab8-80e7-30b931704342",
   "metadata": {},
   "outputs": [
    {
     "name": "stdout",
     "output_type": "stream",
     "text": [
      "{0: 'ip.in.timestamp', 1: 'pdcp.cipher.timestamp', 2: 'pdcp.pdu.timestamp', 3: 'rlc.queue.timestamp', 4: 'rlc.queue.segments.0.rlc.txpdu.timestamp', 5: 'rlc.queue.segments.0.mac.sdu.timestamp', 6: 'rlc.queue.segments.0.mac.harq.timestamp', 7: 'rlc.reassembled.1.mac.demuxed.mac.decoded.0.timestamp', 8: 'rlc.reassembled.1.mac.demuxed.timestamp', 9: 'rlc.reassembled.1.rlc.decoded.timestamp', 10: 'rlc.reassembled.1.rlc.reassembled.timestamp', 11: 'rlc.queue.segments.1.rlc.txpdu.timestamp', 12: 'rlc.queue.segments.1.mac.sdu.timestamp', 13: 'rlc.queue.segments.1.mac.harq.timestamp', 14: 'rlc.reassembled.0.mac.demuxed.mac.decoded.0.timestamp', 15: 'rlc.reassembled.0.mac.demuxed.timestamp', 16: 'rlc.reassembled.0.rlc.decoded.timestamp', 17: 'rlc.reassembled.0.rlc.reassembled.timestamp', 18: 'pdcp.decoded.timestamp', 19: 'sdap.sdu.timestamp', 20: 'gtp.out.timestamp'}\n",
      "{0: 0.0, 1: 9.5367431640625e-07, 2: 3.0994415283203125e-06, 3: 2.9087066650390625e-05, 4: 0.003122091293334961, 5: 0.003122091293334961, 6: 0.003123044967651367, 7: 0.005600929260253906, 8: 0.0056400299072265625, 9: 0.005645036697387695, 10: 0.005646944046020508, 11: 0.00861811637878418, 12: 0.00861811637878418, 13: 0.008620977401733398, 14: 0.01114511489868164, 15: 0.011194944381713867, 16: 0.011201143264770508, 17: 0.011202096939086914, 18: 0.01120305061340332, 19: 0.01120901107788086, 20: 0.011213064193725586}\n",
      "21\n"
     ]
    }
   ],
   "source": [
    "print({i:keys[i] for i in key_indices})\n",
    "print({i:values[i] for i in key_indices})\n",
    "print(len(key_indices))"
   ]
  }
 ],
 "metadata": {
  "kernelspec": {
   "display_name": "Python 3 (ipykernel)",
   "language": "python",
   "name": "python3"
  },
  "language_info": {
   "codemirror_mode": {
    "name": "ipython",
    "version": 3
   },
   "file_extension": ".py",
   "mimetype": "text/x-python",
   "name": "python",
   "nbconvert_exporter": "python",
   "pygments_lexer": "ipython3",
   "version": "3.9.0"
  }
 },
 "nbformat": 4,
 "nbformat_minor": 5
}
